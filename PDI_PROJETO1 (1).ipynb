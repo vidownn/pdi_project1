{
  "cells": [
    {
      "cell_type": "code",
      "execution_count": null,
      "metadata": {
        "id": "x6PSpGcepxn-"
      },
      "outputs": [],
      "source": [
        "from PIL import Image\n",
        "import numpy as np\n",
        "from numpy import asarray"
      ]
    },
    {
      "cell_type": "code",
      "execution_count": null,
      "metadata": {
        "colab": {
          "background_save": true
        },
        "id": "G0Vcy8KR23CX"
      },
      "outputs": [],
      "source": [
        "def rgb_to_hsb(altura, largura, rgb_array):\n",
        "  hsb_array = rgb_array.copy()\n",
        "  for x in range(altura):\n",
        "    for y in range(largura):\n",
        "      rgb = hsb_array[x][y]\n",
        "      maximo = np.max(rgb)\n",
        "      minimo = np.min(rgb)\n",
        "      r = rgb[0]\n",
        "      g = rgb[1]\n",
        "      b = rgb[2]\n",
        "      v = maximo\n",
        "      if maximo == minimo:\n",
        "        h = 0\n",
        "      elif maximo == r and g>=b:\n",
        "        h = 60 * (g-b)/(maximo-minimo)\n",
        "      elif maximo ==r and g<b:\n",
        "        h = 60 * (g-b)/(maximo-minimo) + 360\n",
        "      elif maximo == g:\n",
        "        h = 60 * (b-r)/(maximo-minimo) + 120;\n",
        "      elif maximo == b:\n",
        "        h = 60 * (r-g)/(maximo-minimo) + 240;\n",
        "      if maximo == 0.0:\n",
        "        s = 0.0\n",
        "      else:\n",
        "        s = 1.0 - (minimo / maximo)\n",
        "      hsb_array[x][y] = [h, s, v]\n",
        "  return hsb_array"
      ]
    },
    {
      "cell_type": "code",
      "execution_count": null,
      "metadata": {
        "id": "_16DXdgvFJbm"
      },
      "outputs": [],
      "source": [
        "def hsb_to_rgb(altura, largura, hsb_array_toconvert):\n",
        "  newrgb_array = hsb_array_toconvert.copy()\n",
        "  for x in range(altura):\n",
        "    for y in range(largura):\n",
        "      hsv = newrgb_array[x][y]\n",
        "      h = hsv[0]\n",
        "      s = hsv[1]\n",
        "      v = hsv[2]\n",
        "      if s == 0:\n",
        "        nr = v\n",
        "        ng = v\n",
        "        nb = v\n",
        "      else:\n",
        "        sector_pos = h/60\n",
        "        sector_number = int(sector_pos)\n",
        "        fractional_sector = sector_pos - sector_number\n",
        "\n",
        "        p = v * (1.0 - s)\n",
        "        q = v * (1.0 - (s * fractional_sector))\n",
        "        t = v * (1.0 - (s * (1 - fractional_sector)))\n",
        "\n",
        "        if sector_number == 0:\n",
        "            nr = v\n",
        "            ng = t\n",
        "            nb = p\n",
        "        elif sector_number == 1:\n",
        "            nr = q\n",
        "            ng = v\n",
        "            nb = p\n",
        "        elif sector_number == 2:\n",
        "            nr = p\n",
        "            ng = v\n",
        "            nb = t\n",
        "        elif sector_number == 3:\n",
        "            nr = p\n",
        "            ng = q\n",
        "            nb = v\n",
        "        elif sector_number == 4:\n",
        "            nr = t\n",
        "            ng = p\n",
        "            nb = v\n",
        "        elif sector_number == 5:\n",
        "            nr = v\n",
        "            ng = p\n",
        "            nb = q\n",
        "        if nr > 1 and ng >1 and nb > 1:\n",
        "          nr = 1\n",
        "          ng = 1\n",
        "          nb = 1\n",
        "        if nr <= 0 and ng <=0 and nb <= 0:\n",
        "          nr = 0\n",
        "          ng = 0\n",
        "          nb = 0\n",
        "      newrgb_array[x][y]=[nr*255, ng*255, nb*255]\n",
        "\n",
        "  return newrgb_array"
      ]
    },
    {
      "cell_type": "code",
      "execution_count": null,
      "metadata": {
        "id": "eZufXVu78vEl"
      },
      "outputs": [],
      "source": [
        "def changehue(altura, largura, change, typechange, array_tochange):\n",
        "  # 0 increase\n",
        "  # 1 decrease\n",
        "  newhsb_array = array_tochange.copy()\n",
        "  for x in range(altura):\n",
        "    for y in range(largura):\n",
        "      if typechange == 0:\n",
        "        if newhsb_array[x][y][0] == 360 or newhsb_array[x][y][0] + change > 360:\n",
        "          newhsb_array[x][y][0] = 360\n",
        "        else:\n",
        "          newhsb_array[x][y][0] = newhsb_array[x][y][0] + change\n",
        "      if typechange == 1:\n",
        "        if newhsb_array[x][y][0] <= change:\n",
        "          newhsb_array[x][y][0] = 0\n",
        "        else:\n",
        "          newhsb_array[x][y][0] = newhsb_array[x][y][0] - change\n",
        "\n",
        "  rgbchanged = hsb_to_rgb(altura, largura, newhsb_array)\n",
        "  return rgbchanged"
      ]
    },
    {
      "cell_type": "code",
      "execution_count": null,
      "metadata": {
        "id": "bTBvOYqyfoly"
      },
      "outputs": [],
      "source": [
        "def changesaturation(altura, largura, change, typechange, array_tochange):\n",
        "  # 0 increase\n",
        "  # 1 decrease\n",
        "  newhsb_arrays = array_tochange.copy()\n",
        "  for x in range(altura):\n",
        "    for y in range(largura):\n",
        "      if typechange == 0:\n",
        "        if newhsb_arrays[x][y][1] == 1 or newhsb_arrays[x][y][1] + change > 1:\n",
        "          newhsb_arrays[x][y][1] = 1\n",
        "        else:\n",
        "          newhsb_arrays[x][y][1] = newhsb_arrays[x][y][1] + change\n",
        "      if typechange == 1:\n",
        "        if newhsb_arrays[x][y][1] <= change:\n",
        "          newhsb_arrays[x][y][1] = 0\n",
        "        else:\n",
        "          newhsb_arrays[x][y][1] = newhsb_arrays[x][y][1] - change\n",
        "\n",
        "  rgbchangeds = hsb_to_rgb(altura, largura, newhsb_arrays)\n",
        "  return rgbchangeds"
      ]
    },
    {
      "cell_type": "code",
      "execution_count": null,
      "metadata": {
        "id": "2gkD4HAxvt3N"
      },
      "outputs": [],
      "source": [
        "def negativergb(altura, largura, rgb_array):\n",
        "  negativearrayrgb = rgb_array.copy()\n",
        "  for x in range(altura):\n",
        "    for y in range(largura):\n",
        "      negativearrayrgb[x][y][0] = 255-negativearrayrgb[x][y][0]\n",
        "      negativearrayrgb[x][y][1] = 255-negativearrayrgb[x][y][1]\n",
        "      negativearrayrgb[x][y][2] = 255-negativearrayrgb[x][y][2]\n",
        "  return negativearrayrgb\n"
      ]
    },
    {
      "cell_type": "code",
      "execution_count": null,
      "metadata": {
        "id": "6IWSnISszSaX"
      },
      "outputs": [],
      "source": [
        "def negativehsv(altura, largura, hsv_array):\n",
        "  negativearrayhsv = hsv_array.copy()\n",
        "  for x in range(altura):\n",
        "    for y in range(largura):\n",
        "      negativearrayhsv[x][y][2] = 1-negativearrayhsv[x][y][2]\n",
        "  return negativearrayhsv\n"
      ]
    },
    {
      "cell_type": "code",
      "execution_count": null,
      "metadata": {
        "id": "G71-UtAE5TPu"
      },
      "outputs": [],
      "source": [
        "def read_configuration(filename):\n",
        "    configuration = {}\n",
        "    with open(filename, 'r') as file:\n",
        "        for line in file:\n",
        "            key, value = line.strip().split(':')\n",
        "            key = key.strip()\n",
        "            value = value.strip()\n",
        "            if key == \"altura\":\n",
        "                configuration[key] = int(value)\n",
        "                linhas = int(value)\n",
        "            elif key == \"largura\" or key == \"stride\":\n",
        "                configuration[key] = int(value)\n",
        "            elif key == \"filtro\":\n",
        "                # Lê as linhas seguintes para obter o filtro\n",
        "                filter_matrix = []\n",
        "                for _ in range(linhas):\n",
        "                    filter_row = [float(val) for val in file.readline().strip().split()]\n",
        "                    filter_matrix.append(filter_row)\n",
        "                configuration[key] = filter_matrix\n",
        "    return configuration"
      ]
    },
    {
      "cell_type": "code",
      "execution_count": null,
      "metadata": {
        "id": "Xi25QNxr9JWh"
      },
      "outputs": [],
      "source": [
        "def correlacao(image, filtro, alturaf, larguraf, stride):\n",
        "\n",
        "    altura, largura, canais = image.shape\n",
        "\n",
        "    altura_filtro = alturaf\n",
        "    largura_filtro = larguraf\n",
        "\n",
        "    desvio_x = largura_filtro // 2\n",
        "    desvio_y = altura_filtro // 2\n",
        "\n",
        "    altura_resultado = (altura - altura_filtro) // stride\n",
        "    largura_resultado = (largura - largura_filtro) // stride\n",
        "\n",
        "    resultado = np.zeros((altura_resultado, largura_resultado, canais), dtype=np.uint8)\n",
        "\n",
        "    for y in range(0, altura - altura_filtro, stride):\n",
        "        for x in range(0, largura - largura_filtro, stride):\n",
        "            for c in range(canais):\n",
        "                sum = 0.0\n",
        "                for fy in range(altura_filtro):\n",
        "                    for fx in range(largura_filtro):\n",
        "                        img_x = x + fx - desvio_x\n",
        "                        img_y = y + fy - desvio_y\n",
        "\n",
        "                        if img_x >= 0 and img_x < largura and img_y >= 0 and img_y < altura:\n",
        "                            sum += image[img_y][img_x][c] * filtro[fy][fx]\n",
        "\n",
        "                resultado_x = x // stride\n",
        "                resultado_y = y // stride\n",
        "                resultado[resultado_y][resultado_x][c] = np.clip(int(sum), 0, 255)\n",
        "\n",
        "    return resultado"
      ]
    },
    {
      "cell_type": "code",
      "execution_count": null,
      "metadata": {
        "id": "s4ylZbI0RG0j"
      },
      "outputs": [],
      "source": [
        "def expansao_histograma(imagem):\n",
        "    minimo = np.min(imagem)\n",
        "    maximo = np.max(imagem)\n",
        "\n",
        "    resultado = np.zeros_like(imagem, dtype=np.uint8)\n",
        "\n",
        "    altura, largura, canais = imagem.shape\n",
        "\n",
        "    for y in range(altura):\n",
        "        for x in range(largura):\n",
        "          for c in range(canais):\n",
        "            pixel = imagem[y][x][c]\n",
        "            # formula da expansão do histograma\n",
        "            resultado_pixel = (pixel - minimo) / (maximo - minimo) * 255\n",
        "            resultado[y][x][c] = resultado_pixel\n",
        "\n",
        "    return resultado"
      ]
    },
    {
      "cell_type": "code",
      "execution_count": null,
      "metadata": {
        "id": "IqpTKIhrp06i"
      },
      "outputs": [],
      "source": [
        "image = Image.open(\"DancingInWater.jpg\")\n",
        "img_array = asarray(image)\n",
        "altura, largura, _ = img_array.shape\n",
        "normal_array = img_array/255\n",
        "image"
      ]
    },
    {
      "cell_type": "code",
      "execution_count": null,
      "metadata": {
        "colab": {
          "background_save": true
        },
        "id": "ah4XqS1prl3l"
      },
      "outputs": [],
      "source": [
        "hsb = rgb_to_hsb(altura, largura, normal_array)\n",
        "newrgb = hsb_to_rgb(altura, largura, hsb)\n",
        "img2 = Image.fromarray(newrgb.astype(np.uint8))\n",
        "img2"
      ]
    },
    {
      "cell_type": "code",
      "execution_count": null,
      "metadata": {
        "id": "4gfOSDKk9p6J"
      },
      "outputs": [],
      "source": [
        "hsb2 = changesaturation(altura, largura, 0.4, 0, hsb)\n",
        "img3 = Image.fromarray(hsb2.astype(np.uint8))\n",
        "img3"
      ]
    },
    {
      "cell_type": "code",
      "execution_count": null,
      "metadata": {
        "id": "tJzD1Ufst8-B"
      },
      "outputs": [],
      "source": [
        "hsb3 = changehue(altura, largura, 90, 0, hsb)\n",
        "img4 = Image.fromarray(hsb3.astype(np.uint8))\n",
        "img4"
      ]
    },
    {
      "cell_type": "code",
      "execution_count": null,
      "metadata": {
        "id": "S4aNWqZSxwjy"
      },
      "outputs": [],
      "source": [
        "nrgb = negativergb(altura, largura, img_array)\n",
        "img5 = Image.fromarray(nrgb.astype(np.uint8))\n",
        "img5"
      ]
    },
    {
      "cell_type": "code",
      "execution_count": null,
      "metadata": {
        "id": "-PimfcfPznNA"
      },
      "outputs": [],
      "source": [
        "nhsv = negativehsv(altura, largura, hsb)\n",
        "img6 = Image.fromarray(nrgb.astype(np.uint8))\n",
        "img6"
      ]
    },
    {
      "cell_type": "code",
      "execution_count": null,
      "metadata": {
        "colab": {
          "base_uri": "https://localhost:8080/"
        },
        "id": "lXwgCqIS2tQg",
        "outputId": "801bd623-f9bd-4ac9-e489-8b62f62369d5"
      },
      "outputs": [
        {
          "name": "stdout",
          "output_type": "stream",
          "text": [
            "[[0.0044, 0.0044, 0.0044, 0.0044, 0.0044, 0.0044, 0.0044, 0.0044, 0.0044, 0.0044, 0.0044, 0.0044, 0.0044, 0.0044, 0.0044], [0.0044, 0.0044, 0.0044, 0.0044, 0.0044, 0.0044, 0.0044, 0.0044, 0.0044, 0.0044, 0.0044, 0.0044, 0.0044, 0.0044, 0.0044], [0.0044, 0.0044, 0.0044, 0.0044, 0.0044, 0.0044, 0.0044, 0.0044, 0.0044, 0.0044, 0.0044, 0.0044, 0.0044, 0.0044, 0.0044], [0.0044, 0.0044, 0.0044, 0.0044, 0.0044, 0.0044, 0.0044, 0.0044, 0.0044, 0.0044, 0.0044, 0.0044, 0.0044, 0.0044, 0.0044], [0.0044, 0.0044, 0.0044, 0.0044, 0.0044, 0.0044, 0.0044, 0.0044, 0.0044, 0.0044, 0.0044, 0.0044, 0.0044, 0.0044, 0.0044], [0.0044, 0.0044, 0.0044, 0.0044, 0.0044, 0.0044, 0.0044, 0.0044, 0.0044, 0.0044, 0.0044, 0.0044, 0.0044, 0.0044, 0.0044], [0.0044, 0.0044, 0.0044, 0.0044, 0.0044, 0.0044, 0.0044, 0.0044, 0.0044, 0.0044, 0.0044, 0.0044, 0.0044, 0.0044, 0.0044], [0.0044, 0.0044, 0.0044, 0.0044, 0.0044, 0.0044, 0.0044, 0.0044, 0.0044, 0.0044, 0.0044, 0.0044, 0.0044, 0.0044, 0.0044], [0.0044, 0.0044, 0.0044, 0.0044, 0.0044, 0.0044, 0.0044, 0.0044, 0.0044, 0.0044, 0.0044, 0.0044, 0.0044, 0.0044, 0.0044], [0.0044, 0.0044, 0.0044, 0.0044, 0.0044, 0.0044, 0.0044, 0.0044, 0.0044, 0.0044, 0.0044, 0.0044, 0.0044, 0.0044, 0.0044], [0.0044, 0.0044, 0.0044, 0.0044, 0.0044, 0.0044, 0.0044, 0.0044, 0.0044, 0.0044, 0.0044, 0.0044, 0.0044, 0.0044, 0.0044], [0.0044, 0.0044, 0.0044, 0.0044, 0.0044, 0.0044, 0.0044, 0.0044, 0.0044, 0.0044, 0.0044, 0.0044, 0.0044, 0.0044, 0.0044], [0.0044, 0.0044, 0.0044, 0.0044, 0.0044, 0.0044, 0.0044, 0.0044, 0.0044, 0.0044, 0.0044, 0.0044, 0.0044, 0.0044, 0.0044], [0.0044, 0.0044, 0.0044, 0.0044, 0.0044, 0.0044, 0.0044, 0.0044, 0.0044, 0.0044, 0.0044, 0.0044, 0.0044, 0.0044, 0.0044], [0.0044, 0.0044, 0.0044, 0.0044, 0.0044, 0.0044, 0.0044, 0.0044, 0.0044, 0.0044, 0.0044, 0.0044, 0.0044, 0.0044, 0.0044]]\n"
          ]
        }
      ],
      "source": [
        "config = read_configuration(\"filtro.txt\")\n",
        "\n",
        "alturafiltro = config.get(\"altura\")\n",
        "largurafiltro = config.get(\"largura\")\n",
        "stride = config.get(\"stride\")\n",
        "filtro = config.get(\"filtro\")\n",
        "\n",
        "print(filtro)"
      ]
    },
    {
      "cell_type": "code",
      "execution_count": null,
      "metadata": {
        "id": "JMC8zcO-heLn"
      },
      "outputs": [],
      "source": [
        "img_correlacao = correlacao(img_array, filtro, alturafiltro, largurafiltro, stride)\n",
        "img_correlacao = Image.fromarray(img_correlacao)\n",
        "img_correlacao"
      ]
    },
    {
      "cell_type": "code",
      "execution_count": null,
      "metadata": {
        "id": "I4BN9dvZiDdT"
      },
      "outputs": [],
      "source": [
        "img_box_3x3 = img_correlacao\n",
        "img_box_3x3"
      ]
    },
    {
      "cell_type": "code",
      "execution_count": null,
      "metadata": {
        "id": "SYpLDmY0cWLN"
      },
      "outputs": [],
      "source": [
        "img_box_15x1 = img_correlacao\n",
        "img_box_15x1"
      ]
    },
    {
      "cell_type": "code",
      "execution_count": null,
      "metadata": {
        "id": "L6Zr6nsJB45W"
      },
      "outputs": [],
      "source": [
        "img_box_15x1_as_array = asarray(img_box_15x1)\n",
        "img_box_1x15 = correlacao(img_box_15x1_as_array, filtro, alturafiltro, largurafiltro, stride)\n",
        "img_box_1x15 = Image.fromarray(img_box_1x15)\n",
        "img_box_1x15"
      ]
    },
    {
      "cell_type": "code",
      "execution_count": null,
      "metadata": {
        "id": "zQQdv10GWqEo"
      },
      "outputs": [],
      "source": [
        "img_box_15x15 = correlacao(img_array, filtro, alturafiltro, largurafiltro, stride)\n",
        "img_box_15x15 = Image.fromarray(img_box_15x15)\n",
        "img_box_15x15"
      ]
    },
    {
      "cell_type": "code",
      "execution_count": null,
      "metadata": {
        "id": "uQV4w7GIHKLS"
      },
      "outputs": [],
      "source": [
        "img_sobel_vertical = correlacao(img_array, filtro, alturafiltro, largurafiltro, stride)\n",
        "img_sobel_vertical = Image.fromarray(img_sobel_vertical)\n",
        "img_sobel_vertical"
      ]
    },
    {
      "cell_type": "code",
      "execution_count": null,
      "metadata": {
        "id": "cytTYSrlMOpS"
      },
      "outputs": [],
      "source": [
        "img_sobel_horizontal = correlacao(img_array, filtro, alturafiltro, largurafiltro, stride)\n",
        "img_sobel_horizontal = Image.fromarray(img_sobel_horizontal)\n",
        "img_sobel_horizontal"
      ]
    },
    {
      "cell_type": "code",
      "execution_count": null,
      "metadata": {
        "id": "uM-E6m5jQsYt"
      },
      "outputs": [],
      "source": [
        "img_sobel = asarray(img_sobel_vertical) + asarray(img_sobel_horizontal)\n",
        "img_sobel = Image.fromarray(img_sobel)\n",
        "img_sobel"
      ]
    },
    {
      "cell_type": "code",
      "execution_count": null,
      "metadata": {
        "colab": {
          "background_save": true
        },
        "id": "rtxxVqS5R3OS"
      },
      "outputs": [],
      "source": [
        "img_sobel_asarray = asarray(img_sobel)\n",
        "histograma_sobel = expansao_histograma(img_sobel_asarray)\n",
        "histograma_sobel = Image.fromarray(histograma_sobel)\n",
        "histograma_sobel"
      ]
    }
  ],
  "metadata": {
    "colab": {
      "provenance": []
    },
    "kernelspec": {
      "display_name": "Python 3",
      "name": "python3"
    },
    "language_info": {
      "name": "python"
    }
  },
  "nbformat": 4,
  "nbformat_minor": 0
}